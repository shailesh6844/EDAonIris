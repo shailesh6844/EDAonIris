{
 "cells": [
  {
   "cell_type": "code",
   "execution_count": 2,
   "id": "d443224e",
   "metadata": {},
   "outputs": [
    {
     "name": "stdout",
     "output_type": "stream",
     "text": [
      "enter the height of triangle:15\n",
      "enter the base of trianglr:20\n",
      "area of triangle is:150.0\n"
     ]
    }
   ],
   "source": [
    "#triangle area\n",
    "\n",
    "height=float(input(\"enter the height of triangle:\"))\n",
    "base=float(input(\"enter the base of trianglr:\"))\n",
    "\n",
    "area=height*base/2\n",
    "\n",
    "print(f\"area of triangle is:{area}\")"
   ]
  },
  {
   "cell_type": "code",
   "execution_count": 5,
   "id": "543603d7",
   "metadata": {},
   "outputs": [
    {
     "name": "stdout",
     "output_type": "stream",
     "text": [
      "Enter the year:1900\n",
      "year is leap\n"
     ]
    }
   ],
   "source": [
    "#leap year\n",
    "\n",
    "year=int(input(\"Enter the year:\"))\n",
    "\n",
    "if year%4==0:\n",
    "    print(\"year is leap\")\n",
    "else:\n",
    "    print(\"year is not leap\")\n",
    "    "
   ]
  },
  {
   "cell_type": "code",
   "execution_count": 9,
   "id": "922a3d6f",
   "metadata": {},
   "outputs": [
    {
     "name": "stdout",
     "output_type": "stream",
     "text": [
      "enter first num1:10\n",
      "enter first num2:20\n",
      "enter first num3:25\n",
      "gretest num is:25.0\n"
     ]
    }
   ],
   "source": [
    "#gretest of three number\n",
    "\n",
    "num1=float(input(\"enter first num1:\"))\n",
    "num2=float(input(\"enter first num2:\"))\n",
    "num3=float(input(\"enter first num3:\"))\n",
    "\n",
    "if num1>num2 and num1>num2:\n",
    "    print(f\"gretest num is:{num1}\")\n",
    "elif num2>num1 and num2>num3:\n",
    "    print(f\"gretest num is:{num2}\")\n",
    "elif num3>num1 and num3>num2:\n",
    "    print(f\"gretest num is:{num3}\")"
   ]
  },
  {
   "cell_type": "code",
   "execution_count": 11,
   "id": "a2d65c23",
   "metadata": {},
   "outputs": [
    {
     "name": "stdout",
     "output_type": "stream",
     "text": [
      "Enter the number:75\n",
      "Number is ODD\n"
     ]
    }
   ],
   "source": [
    "#num is even or odd\n",
    "\n",
    "number=int(input(\"Enter the number:\"))\n",
    "if number/2==0:\n",
    "    print(\"Number is even\")\n",
    "else:\n",
    "    print(\"Number is ODD\")\n",
    "    \n"
   ]
  },
  {
   "cell_type": "code",
   "execution_count": 13,
   "id": "56161b6d",
   "metadata": {},
   "outputs": [
    {
     "name": "stdout",
     "output_type": "stream",
     "text": [
      "Enter the string:shailesh\n",
      "string contains vowels\n"
     ]
    }
   ],
   "source": [
    "#program to count vowels\n",
    "\n",
    "string=input(\"Enter the string:\")\n",
    "\n",
    "if \"a\" in string or \"e\" in string or \"i\" in string or \"o\" in string or \"u\" in string:\n",
    "    print(\"string contains vowels\")\n",
    "\n"
   ]
  },
  {
   "cell_type": "code",
   "execution_count": 18,
   "id": "69e59b69",
   "metadata": {},
   "outputs": [
    {
     "name": "stdout",
     "output_type": "stream",
     "text": [
      "Enter the start number:1\n",
      "Enter the ending number:100\n"
     ]
    },
    {
     "ename": "AttributeError",
     "evalue": "module 'random' has no attribute 'ranint'",
     "output_type": "error",
     "traceback": [
      "\u001b[1;31m---------------------------------------------------------------------------\u001b[0m",
      "\u001b[1;31mAttributeError\u001b[0m                            Traceback (most recent call last)",
      "Cell \u001b[1;32mIn[18], line 9\u001b[0m\n\u001b[0;32m      6\u001b[0m num1\u001b[38;5;241m=\u001b[39m\u001b[38;5;28mint\u001b[39m(\u001b[38;5;28minput\u001b[39m(\u001b[38;5;124m\"\u001b[39m\u001b[38;5;124mEnter the start number:\u001b[39m\u001b[38;5;124m\"\u001b[39m))\n\u001b[0;32m      7\u001b[0m num2\u001b[38;5;241m=\u001b[39m\u001b[38;5;28mint\u001b[39m(\u001b[38;5;28minput\u001b[39m(\u001b[38;5;124m\"\u001b[39m\u001b[38;5;124mEnter the ending number:\u001b[39m\u001b[38;5;124m\"\u001b[39m))\n\u001b[1;32m----> 9\u001b[0m random_number\u001b[38;5;241m=\u001b[39mrandom\u001b[38;5;241m.\u001b[39mranint(\u001b[38;5;241m1\u001b[39m,\u001b[38;5;241m100\u001b[39m)\n\u001b[0;32m     11\u001b[0m \u001b[38;5;28mprint\u001b[39m(random_number)\n",
      "\u001b[1;31mAttributeError\u001b[0m: module 'random' has no attribute 'ranint'"
     ]
    }
   ],
   "source": [
    "#random Number\n",
    "\n",
    "\n",
    "import random\n",
    "\n",
    "num1=int(input(\"Enter the start number:\"))\n",
    "num2=int(input(\"Enter the ending number:\"))\n",
    "\n",
    "random_number=random.ranint(num1,num2)\n",
    "\n",
    "print(random_number)"
   ]
  },
  {
   "cell_type": "code",
   "execution_count": null,
   "id": "e28fb750",
   "metadata": {},
   "outputs": [],
   "source": []
  }
 ],
 "metadata": {
  "kernelspec": {
   "display_name": "Python 3 (ipykernel)",
   "language": "python",
   "name": "python3"
  },
  "language_info": {
   "codemirror_mode": {
    "name": "ipython",
    "version": 3
   },
   "file_extension": ".py",
   "mimetype": "text/x-python",
   "name": "python",
   "nbconvert_exporter": "python",
   "pygments_lexer": "ipython3",
   "version": "3.11.4"
  }
 },
 "nbformat": 4,
 "nbformat_minor": 5
}
